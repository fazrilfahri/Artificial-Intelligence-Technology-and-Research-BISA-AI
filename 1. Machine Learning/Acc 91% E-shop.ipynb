{
 "cells": [
  {
   "cell_type": "code",
   "execution_count": 508,
   "id": "ef053a85",
   "metadata": {},
   "outputs": [],
   "source": [
    "import pandas as pd\n",
    "import numpy as np \n",
    "import matplotlib.pyplot as plt\n",
    "%matplotlib inline\n",
    "import seaborn as sns\n",
    "from scipy import stats\n",
    "from sklearn.linear_model import LinearRegression\n",
    "from sklearn.model_selection import train_test_split"
   ]
  },
  {
   "cell_type": "code",
   "execution_count": 509,
   "id": "778e36ec",
   "metadata": {},
   "outputs": [
    {
     "data": {
      "text/html": [
       "<div>\n",
       "<style scoped>\n",
       "    .dataframe tbody tr th:only-of-type {\n",
       "        vertical-align: middle;\n",
       "    }\n",
       "\n",
       "    .dataframe tbody tr th {\n",
       "        vertical-align: top;\n",
       "    }\n",
       "\n",
       "    .dataframe thead th {\n",
       "        text-align: right;\n",
       "    }\n",
       "</style>\n",
       "<table border=\"1\" class=\"dataframe\">\n",
       "  <thead>\n",
       "    <tr style=\"text-align: right;\">\n",
       "      <th></th>\n",
       "      <th>year</th>\n",
       "      <th>month</th>\n",
       "      <th>day</th>\n",
       "      <th>order</th>\n",
       "      <th>country</th>\n",
       "      <th>session ID</th>\n",
       "      <th>page 1 (main category)</th>\n",
       "      <th>page 2 (clothing model)</th>\n",
       "      <th>colour</th>\n",
       "      <th>location</th>\n",
       "      <th>model photography</th>\n",
       "      <th>price</th>\n",
       "      <th>price 2</th>\n",
       "      <th>page</th>\n",
       "    </tr>\n",
       "  </thead>\n",
       "  <tbody>\n",
       "    <tr>\n",
       "      <th>0</th>\n",
       "      <td>2008</td>\n",
       "      <td>4</td>\n",
       "      <td>1</td>\n",
       "      <td>1</td>\n",
       "      <td>29</td>\n",
       "      <td>1</td>\n",
       "      <td>1</td>\n",
       "      <td>A13</td>\n",
       "      <td>1</td>\n",
       "      <td>5</td>\n",
       "      <td>1</td>\n",
       "      <td>28</td>\n",
       "      <td>2</td>\n",
       "      <td>1</td>\n",
       "    </tr>\n",
       "    <tr>\n",
       "      <th>1</th>\n",
       "      <td>2008</td>\n",
       "      <td>4</td>\n",
       "      <td>1</td>\n",
       "      <td>2</td>\n",
       "      <td>29</td>\n",
       "      <td>1</td>\n",
       "      <td>1</td>\n",
       "      <td>A16</td>\n",
       "      <td>1</td>\n",
       "      <td>6</td>\n",
       "      <td>1</td>\n",
       "      <td>33</td>\n",
       "      <td>2</td>\n",
       "      <td>1</td>\n",
       "    </tr>\n",
       "    <tr>\n",
       "      <th>2</th>\n",
       "      <td>2008</td>\n",
       "      <td>4</td>\n",
       "      <td>1</td>\n",
       "      <td>3</td>\n",
       "      <td>29</td>\n",
       "      <td>1</td>\n",
       "      <td>2</td>\n",
       "      <td>B4</td>\n",
       "      <td>10</td>\n",
       "      <td>2</td>\n",
       "      <td>1</td>\n",
       "      <td>52</td>\n",
       "      <td>1</td>\n",
       "      <td>1</td>\n",
       "    </tr>\n",
       "    <tr>\n",
       "      <th>3</th>\n",
       "      <td>2008</td>\n",
       "      <td>4</td>\n",
       "      <td>1</td>\n",
       "      <td>4</td>\n",
       "      <td>29</td>\n",
       "      <td>1</td>\n",
       "      <td>2</td>\n",
       "      <td>B17</td>\n",
       "      <td>6</td>\n",
       "      <td>6</td>\n",
       "      <td>2</td>\n",
       "      <td>38</td>\n",
       "      <td>2</td>\n",
       "      <td>1</td>\n",
       "    </tr>\n",
       "    <tr>\n",
       "      <th>4</th>\n",
       "      <td>2008</td>\n",
       "      <td>4</td>\n",
       "      <td>1</td>\n",
       "      <td>5</td>\n",
       "      <td>29</td>\n",
       "      <td>1</td>\n",
       "      <td>2</td>\n",
       "      <td>B8</td>\n",
       "      <td>4</td>\n",
       "      <td>3</td>\n",
       "      <td>2</td>\n",
       "      <td>52</td>\n",
       "      <td>1</td>\n",
       "      <td>1</td>\n",
       "    </tr>\n",
       "  </tbody>\n",
       "</table>\n",
       "</div>"
      ],
      "text/plain": [
       "   year  month  day  order  country  session ID  page 1 (main category)  \\\n",
       "0  2008      4    1      1       29           1                       1   \n",
       "1  2008      4    1      2       29           1                       1   \n",
       "2  2008      4    1      3       29           1                       2   \n",
       "3  2008      4    1      4       29           1                       2   \n",
       "4  2008      4    1      5       29           1                       2   \n",
       "\n",
       "  page 2 (clothing model)  colour  location  model photography  price  \\\n",
       "0                     A13       1         5                  1     28   \n",
       "1                     A16       1         6                  1     33   \n",
       "2                      B4      10         2                  1     52   \n",
       "3                     B17       6         6                  2     38   \n",
       "4                      B8       4         3                  2     52   \n",
       "\n",
       "   price 2  page  \n",
       "0        2     1  \n",
       "1        2     1  \n",
       "2        1     1  \n",
       "3        2     1  \n",
       "4        1     1  "
      ]
     },
     "execution_count": 509,
     "metadata": {},
     "output_type": "execute_result"
    }
   ],
   "source": [
    "df=pd.read_csv('e-shop clothing 2008.csv')\n",
    "df.head() "
   ]
  },
  {
   "cell_type": "markdown",
   "id": "793e9337",
   "metadata": {},
   "source": [
    "Setelah Dilakukan Analisis data tersebut Data tersebut tidak ada missing values.\n",
    "\n"
   ]
  },
  {
   "cell_type": "code",
   "execution_count": 542,
   "id": "4030f450",
   "metadata": {},
   "outputs": [
    {
     "name": "stdout",
     "output_type": "stream",
     "text": [
      "year                       0\n",
      "Month                      0\n",
      "Day                        0\n",
      "order                      0\n",
      "country                    0\n",
      "session ID                 0\n",
      "Type                       0\n",
      "page 2 (clothing model)    0\n",
      "colour                     0\n",
      "location                   0\n",
      "model photography          0\n",
      "Price                      0\n",
      "price 2                    0\n",
      "Page                       0\n",
      "dtype: int64\n"
     ]
    }
   ],
   "source": [
    "print(df.isnull().sum())"
   ]
  },
  {
   "cell_type": "markdown",
   "id": "21077861",
   "metadata": {},
   "source": [
    "Melihat informasi data kita mulai dari jumlah data, tipe data, memory yang digunakan dll.\n",
    "---"
   ]
  },
  {
   "cell_type": "code",
   "execution_count": 545,
   "id": "b99a2773",
   "metadata": {},
   "outputs": [
    {
     "name": "stdout",
     "output_type": "stream",
     "text": [
      "<class 'pandas.core.frame.DataFrame'>\n",
      "RangeIndex: 165474 entries, 0 to 165473\n",
      "Data columns (total 14 columns):\n",
      " #   Column                   Non-Null Count   Dtype \n",
      "---  ------                   --------------   ----- \n",
      " 0   year                     165474 non-null  int64 \n",
      " 1   month                    165474 non-null  int64 \n",
      " 2   day                      165474 non-null  int64 \n",
      " 3   order                    165474 non-null  int64 \n",
      " 4   country                  165474 non-null  int64 \n",
      " 5   session ID               165474 non-null  int64 \n",
      " 6   page 1 (main category)   165474 non-null  int64 \n",
      " 7   page 2 (clothing model)  165474 non-null  object\n",
      " 8   colour                   165474 non-null  int64 \n",
      " 9   location                 165474 non-null  int64 \n",
      " 10  model photography        165474 non-null  int64 \n",
      " 11  price                    165474 non-null  int64 \n",
      " 12  price 2                  165474 non-null  int64 \n",
      " 13  page                     165474 non-null  int64 \n",
      "dtypes: int64(13), object(1)\n",
      "memory usage: 17.7+ MB\n"
     ]
    }
   ],
   "source": [
    "df.info()"
   ]
  },
  {
   "cell_type": "code",
   "execution_count": 547,
   "id": "173288d3",
   "metadata": {},
   "outputs": [
    {
     "data": {
      "text/html": [
       "<div>\n",
       "<style scoped>\n",
       "    .dataframe tbody tr th:only-of-type {\n",
       "        vertical-align: middle;\n",
       "    }\n",
       "\n",
       "    .dataframe tbody tr th {\n",
       "        vertical-align: top;\n",
       "    }\n",
       "\n",
       "    .dataframe thead th {\n",
       "        text-align: right;\n",
       "    }\n",
       "</style>\n",
       "<table border=\"1\" class=\"dataframe\">\n",
       "  <thead>\n",
       "    <tr style=\"text-align: right;\">\n",
       "      <th></th>\n",
       "      <th>year</th>\n",
       "      <th>Month</th>\n",
       "      <th>Day</th>\n",
       "      <th>order</th>\n",
       "      <th>country</th>\n",
       "      <th>session ID</th>\n",
       "      <th>Type</th>\n",
       "      <th>page 2 (clothing model)</th>\n",
       "      <th>colour</th>\n",
       "      <th>location</th>\n",
       "      <th>model photography</th>\n",
       "      <th>Price</th>\n",
       "      <th>price 2</th>\n",
       "      <th>Page</th>\n",
       "    </tr>\n",
       "  </thead>\n",
       "  <tbody>\n",
       "    <tr>\n",
       "      <th>0</th>\n",
       "      <td>2008</td>\n",
       "      <td>April</td>\n",
       "      <td>Monday</td>\n",
       "      <td>1</td>\n",
       "      <td>29</td>\n",
       "      <td>1</td>\n",
       "      <td>Trousers</td>\n",
       "      <td>A13</td>\n",
       "      <td>1</td>\n",
       "      <td>5</td>\n",
       "      <td>1</td>\n",
       "      <td>28</td>\n",
       "      <td>2</td>\n",
       "      <td>1</td>\n",
       "    </tr>\n",
       "    <tr>\n",
       "      <th>1</th>\n",
       "      <td>2008</td>\n",
       "      <td>April</td>\n",
       "      <td>Monday</td>\n",
       "      <td>2</td>\n",
       "      <td>29</td>\n",
       "      <td>1</td>\n",
       "      <td>Trousers</td>\n",
       "      <td>A16</td>\n",
       "      <td>1</td>\n",
       "      <td>6</td>\n",
       "      <td>1</td>\n",
       "      <td>33</td>\n",
       "      <td>2</td>\n",
       "      <td>1</td>\n",
       "    </tr>\n",
       "    <tr>\n",
       "      <th>2</th>\n",
       "      <td>2008</td>\n",
       "      <td>April</td>\n",
       "      <td>Monday</td>\n",
       "      <td>3</td>\n",
       "      <td>29</td>\n",
       "      <td>1</td>\n",
       "      <td>Skirts</td>\n",
       "      <td>B4</td>\n",
       "      <td>10</td>\n",
       "      <td>2</td>\n",
       "      <td>1</td>\n",
       "      <td>52</td>\n",
       "      <td>1</td>\n",
       "      <td>1</td>\n",
       "    </tr>\n",
       "    <tr>\n",
       "      <th>3</th>\n",
       "      <td>2008</td>\n",
       "      <td>April</td>\n",
       "      <td>Monday</td>\n",
       "      <td>4</td>\n",
       "      <td>29</td>\n",
       "      <td>1</td>\n",
       "      <td>Skirts</td>\n",
       "      <td>B17</td>\n",
       "      <td>6</td>\n",
       "      <td>6</td>\n",
       "      <td>2</td>\n",
       "      <td>38</td>\n",
       "      <td>2</td>\n",
       "      <td>1</td>\n",
       "    </tr>\n",
       "    <tr>\n",
       "      <th>4</th>\n",
       "      <td>2008</td>\n",
       "      <td>April</td>\n",
       "      <td>Monday</td>\n",
       "      <td>5</td>\n",
       "      <td>29</td>\n",
       "      <td>1</td>\n",
       "      <td>Skirts</td>\n",
       "      <td>B8</td>\n",
       "      <td>4</td>\n",
       "      <td>3</td>\n",
       "      <td>2</td>\n",
       "      <td>52</td>\n",
       "      <td>1</td>\n",
       "      <td>1</td>\n",
       "    </tr>\n",
       "  </tbody>\n",
       "</table>\n",
       "</div>"
      ],
      "text/plain": [
       "   year  Month     Day  order  country  session ID      Type  \\\n",
       "0  2008  April  Monday      1       29           1  Trousers   \n",
       "1  2008  April  Monday      2       29           1  Trousers   \n",
       "2  2008  April  Monday      3       29           1    Skirts   \n",
       "3  2008  April  Monday      4       29           1    Skirts   \n",
       "4  2008  April  Monday      5       29           1    Skirts   \n",
       "\n",
       "  page 2 (clothing model)  colour  location  model photography  Price  \\\n",
       "0                     A13       1         5                  1     28   \n",
       "1                     A16       1         6                  1     33   \n",
       "2                      B4      10         2                  1     52   \n",
       "3                     B17       6         6                  2     38   \n",
       "4                      B8       4         3                  2     52   \n",
       "\n",
       "   price 2  Page  \n",
       "0        2     1  \n",
       "1        2     1  \n",
       "2        1     1  \n",
       "3        2     1  \n",
       "4        1     1  "
      ]
     },
     "execution_count": 547,
     "metadata": {},
     "output_type": "execute_result"
    }
   ],
   "source": [
    "csdf = df[['month', 'day', 'page 1 (main category)', 'price', 'page']]\n",
    "csdf = df.rename(columns={'month':'Month', 'day':'Day', 'page 1 (main category)':'Type',\n",
    "                     'price':'Price', 'page':'Page'})\n",
    "csdf.Type = csdf.Type.replace({1: 'Trousers', 2: 'Skirts', 3: 'Blouses', 4: 'Sale'})\n",
    "csdf.Month = csdf.Month.replace({4: 'April', 5: 'May', 6: 'June', 7:'July', 8: 'August'})\n",
    "csdf.Day = csdf.Day.replace({1: 'Monday', 2: 'Tuesday', 3: 'Wednesday', 4: 'Thursday', 5: 'Friday', 6: 'Saturday', 7: 'Sunday'})\n",
    "\n",
    "csdf.head()"
   ]
  },
  {
   "cell_type": "markdown",
   "id": "6668e668",
   "metadata": {},
   "source": [
    "Mengetahui jumlah kolom dan baris dari data.\n",
    "---"
   ]
  },
  {
   "cell_type": "code",
   "execution_count": 548,
   "id": "73776873",
   "metadata": {},
   "outputs": [
    {
     "data": {
      "text/plain": [
       "(165474, 14)"
      ]
     },
     "execution_count": 548,
     "metadata": {},
     "output_type": "execute_result"
    }
   ],
   "source": [
    "csdf.shape"
   ]
  },
  {
   "cell_type": "markdown",
   "id": "1d9a8918",
   "metadata": {},
   "source": [
    "Melihat statistical description dari data mulai dari mean, kuartil, standard deviation dll.\n",
    "---"
   ]
  },
  {
   "cell_type": "code",
   "execution_count": 549,
   "id": "a8ad714a",
   "metadata": {},
   "outputs": [
    {
     "data": {
      "text/html": [
       "<div>\n",
       "<style scoped>\n",
       "    .dataframe tbody tr th:only-of-type {\n",
       "        vertical-align: middle;\n",
       "    }\n",
       "\n",
       "    .dataframe tbody tr th {\n",
       "        vertical-align: top;\n",
       "    }\n",
       "\n",
       "    .dataframe thead th {\n",
       "        text-align: right;\n",
       "    }\n",
       "</style>\n",
       "<table border=\"1\" class=\"dataframe\">\n",
       "  <thead>\n",
       "    <tr style=\"text-align: right;\">\n",
       "      <th></th>\n",
       "      <th>year</th>\n",
       "      <th>order</th>\n",
       "      <th>country</th>\n",
       "      <th>session ID</th>\n",
       "      <th>colour</th>\n",
       "      <th>location</th>\n",
       "      <th>model photography</th>\n",
       "      <th>Price</th>\n",
       "      <th>price 2</th>\n",
       "      <th>Page</th>\n",
       "    </tr>\n",
       "  </thead>\n",
       "  <tbody>\n",
       "    <tr>\n",
       "      <th>count</th>\n",
       "      <td>165474.0</td>\n",
       "      <td>165474.000000</td>\n",
       "      <td>165474.000000</td>\n",
       "      <td>165474.000000</td>\n",
       "      <td>165474.000000</td>\n",
       "      <td>165474.000000</td>\n",
       "      <td>165474.000000</td>\n",
       "      <td>165474.000000</td>\n",
       "      <td>165474.000000</td>\n",
       "      <td>165474.000000</td>\n",
       "    </tr>\n",
       "    <tr>\n",
       "      <th>mean</th>\n",
       "      <td>2008.0</td>\n",
       "      <td>9.817476</td>\n",
       "      <td>26.952621</td>\n",
       "      <td>12058.417056</td>\n",
       "      <td>6.227655</td>\n",
       "      <td>3.258198</td>\n",
       "      <td>1.260071</td>\n",
       "      <td>43.802507</td>\n",
       "      <td>1.488167</td>\n",
       "      <td>1.710166</td>\n",
       "    </tr>\n",
       "    <tr>\n",
       "      <th>std</th>\n",
       "      <td>0.0</td>\n",
       "      <td>13.478411</td>\n",
       "      <td>7.150691</td>\n",
       "      <td>7008.418903</td>\n",
       "      <td>4.235606</td>\n",
       "      <td>1.713206</td>\n",
       "      <td>0.438674</td>\n",
       "      <td>12.548131</td>\n",
       "      <td>0.499861</td>\n",
       "      <td>0.982412</td>\n",
       "    </tr>\n",
       "    <tr>\n",
       "      <th>min</th>\n",
       "      <td>2008.0</td>\n",
       "      <td>1.000000</td>\n",
       "      <td>1.000000</td>\n",
       "      <td>1.000000</td>\n",
       "      <td>1.000000</td>\n",
       "      <td>1.000000</td>\n",
       "      <td>1.000000</td>\n",
       "      <td>18.000000</td>\n",
       "      <td>1.000000</td>\n",
       "      <td>1.000000</td>\n",
       "    </tr>\n",
       "    <tr>\n",
       "      <th>25%</th>\n",
       "      <td>2008.0</td>\n",
       "      <td>2.000000</td>\n",
       "      <td>29.000000</td>\n",
       "      <td>5931.000000</td>\n",
       "      <td>3.000000</td>\n",
       "      <td>2.000000</td>\n",
       "      <td>1.000000</td>\n",
       "      <td>33.000000</td>\n",
       "      <td>1.000000</td>\n",
       "      <td>1.000000</td>\n",
       "    </tr>\n",
       "    <tr>\n",
       "      <th>50%</th>\n",
       "      <td>2008.0</td>\n",
       "      <td>6.000000</td>\n",
       "      <td>29.000000</td>\n",
       "      <td>11967.500000</td>\n",
       "      <td>4.000000</td>\n",
       "      <td>3.000000</td>\n",
       "      <td>1.000000</td>\n",
       "      <td>43.000000</td>\n",
       "      <td>1.000000</td>\n",
       "      <td>1.000000</td>\n",
       "    </tr>\n",
       "    <tr>\n",
       "      <th>75%</th>\n",
       "      <td>2008.0</td>\n",
       "      <td>12.000000</td>\n",
       "      <td>29.000000</td>\n",
       "      <td>18219.000000</td>\n",
       "      <td>9.000000</td>\n",
       "      <td>5.000000</td>\n",
       "      <td>2.000000</td>\n",
       "      <td>52.000000</td>\n",
       "      <td>2.000000</td>\n",
       "      <td>2.000000</td>\n",
       "    </tr>\n",
       "    <tr>\n",
       "      <th>max</th>\n",
       "      <td>2008.0</td>\n",
       "      <td>195.000000</td>\n",
       "      <td>47.000000</td>\n",
       "      <td>24026.000000</td>\n",
       "      <td>14.000000</td>\n",
       "      <td>6.000000</td>\n",
       "      <td>2.000000</td>\n",
       "      <td>82.000000</td>\n",
       "      <td>2.000000</td>\n",
       "      <td>5.000000</td>\n",
       "    </tr>\n",
       "  </tbody>\n",
       "</table>\n",
       "</div>"
      ],
      "text/plain": [
       "           year          order        country     session ID         colour  \\\n",
       "count  165474.0  165474.000000  165474.000000  165474.000000  165474.000000   \n",
       "mean     2008.0       9.817476      26.952621   12058.417056       6.227655   \n",
       "std         0.0      13.478411       7.150691    7008.418903       4.235606   \n",
       "min      2008.0       1.000000       1.000000       1.000000       1.000000   \n",
       "25%      2008.0       2.000000      29.000000    5931.000000       3.000000   \n",
       "50%      2008.0       6.000000      29.000000   11967.500000       4.000000   \n",
       "75%      2008.0      12.000000      29.000000   18219.000000       9.000000   \n",
       "max      2008.0     195.000000      47.000000   24026.000000      14.000000   \n",
       "\n",
       "            location  model photography          Price        price 2  \\\n",
       "count  165474.000000      165474.000000  165474.000000  165474.000000   \n",
       "mean        3.258198           1.260071      43.802507       1.488167   \n",
       "std         1.713206           0.438674      12.548131       0.499861   \n",
       "min         1.000000           1.000000      18.000000       1.000000   \n",
       "25%         2.000000           1.000000      33.000000       1.000000   \n",
       "50%         3.000000           1.000000      43.000000       1.000000   \n",
       "75%         5.000000           2.000000      52.000000       2.000000   \n",
       "max         6.000000           2.000000      82.000000       2.000000   \n",
       "\n",
       "                Page  \n",
       "count  165474.000000  \n",
       "mean        1.710166  \n",
       "std         0.982412  \n",
       "min         1.000000  \n",
       "25%         1.000000  \n",
       "50%         1.000000  \n",
       "75%         2.000000  \n",
       "max         5.000000  "
      ]
     },
     "execution_count": 549,
     "metadata": {},
     "output_type": "execute_result"
    }
   ],
   "source": [
    "csdf.describe()"
   ]
  },
  {
   "cell_type": "code",
   "execution_count": 550,
   "id": "9d88715d",
   "metadata": {},
   "outputs": [
    {
     "data": {
      "image/png": "[encoded data removed]",
      "text/plain": [
       "<Figure size 360x360 with 1 Axes>"
      ]
     },
     "metadata": {},
     "output_type": "display_data"
    }
   ],
   "source": [
    "plt.bar(csdf.Price.value_counts().keys(), csdf.Price.value_counts().values, color='dimgray')\n",
    "plt.title('Bar Plot Price')\n",
    "plt.show()"
   ]
  },
  {
   "cell_type": "code",
   "execution_count": 551,
   "id": "d9f3a735",
   "metadata": {},
   "outputs": [
    {
     "data": {
      "image/png": "[encoded data removed]",
      "text/plain": [
       "<Figure size 360x360 with 1 Axes>"
      ]
     },
     "metadata": {},
     "output_type": "display_data"
    }
   ],
   "source": [
    "plt.bar(csdf.colour.value_counts().keys(), csdf.colour.value_counts().values, color='dimgray')\n",
    "plt.title('Bar Plot colour ')\n",
    "plt.show()"
   ]
  },
  {
   "cell_type": "markdown",
   "id": "d9a6a2fd",
   "metadata": {},
   "source": [
    "Analisa Data Distribusi eksplorasi dan persiapan data\n",
    "---"
   ]
  },
  {
   "cell_type": "code",
   "execution_count": 552,
   "id": "195e472c",
   "metadata": {},
   "outputs": [
    {
     "data": {
      "text/plain": [
       "<matplotlib.axes._subplots.AxesSubplot at 0x15544a2fbb0>"
      ]
     },
     "execution_count": 552,
     "metadata": {},
     "output_type": "execute_result"
    },
    {
     "data": {
      "image/png": "[encoded data removed]",
      "text/plain": [
       "<Figure size 360x360 with 1 Axes>"
      ]
     },
     "metadata": {},
     "output_type": "display_data"
    }
   ],
   "source": [
    "sns.set(rc={'figure.figsize':(5,5)})\n",
    "sns.kdeplot(csdf['Price'],shade=True)"
   ]
  },
  {
   "cell_type": "code",
   "execution_count": 553,
   "id": "9f86be07",
   "metadata": {},
   "outputs": [
    {
     "data": {
      "text/plain": [
       "<matplotlib.axes._subplots.AxesSubplot at 0x155338c6e50>"
      ]
     },
     "execution_count": 553,
     "metadata": {},
     "output_type": "execute_result"
    },
    {
     "data": {
      "image/png": "[encoded data removed]",
      "text/plain": [
       "<Figure size 360x360 with 1 Axes>"
      ]
     },
     "metadata": {},
     "output_type": "display_data"
    }
   ],
   "source": [
    "sns.set(rc={'figure.figsize':(5,5)})\n",
    "sns.kdeplot(df['colour'],shade=True)"
   ]
  },
  {
   "cell_type": "markdown",
   "id": "a4210480",
   "metadata": {},
   "source": [
    "\n",
    "\n",
    "analisis menggunakan scatterplot\n",
    "---  "
   ]
  },
  {
   "cell_type": "code",
   "execution_count": 554,
   "id": "5d443cbb",
   "metadata": {},
   "outputs": [
    {
     "data": {
      "image/png": "[encoded data removed]",
      "text/plain": [
       "<Figure size 360x360 with 1 Axes>"
      ]
     },
     "metadata": {},
     "output_type": "display_data"
    }
   ],
   "source": [
    "sns.scatterplot(x=df.index,y=csdf['Price'], hue=csdf['colour'])\n",
    "plt.show()"
   ]
  },
  {
   "cell_type": "markdown",
   "id": "674f6493",
   "metadata": {},
   "source": [
    "Setelah Dilakukan Analisis Bisa Kita Lihat Bahwa Warna Colour 12 Harga Baju Dibawah 20.\n",
    "\n",
    "Dimana untuk Warna Colour 10 Harga Baju 50 "
   ]
  },
  {
   "cell_type": "markdown",
   "id": "7943a4d3",
   "metadata": {},
   "source": [
    " REGRESSION\n",
    "--"
   ]
  },
  {
   "cell_type": "code",
   "execution_count": 520,
   "id": "6048e6ff",
   "metadata": {},
   "outputs": [
    {
     "data": {
      "image/png": "[encoded data removed]",
      "text/plain": [
       "<Figure size 360x360 with 1 Axes>"
      ]
     },
     "metadata": {},
     "output_type": "display_data"
    }
   ],
   "source": [
    "plt.scatter(csdf.Price.value_counts().keys(), csdf.Price.value_counts().values, color='dimgray')\n",
    "plt.title('Scatter Plot Price')\n",
    "plt.show()"
   ]
  },
  {
   "cell_type": "code",
   "execution_count": 555,
   "id": "cc7ea5d8",
   "metadata": {},
   "outputs": [
    {
     "data": {
      "image/png": "[encoded data removed]",
      "text/plain": [
       "<Figure size 360x360 with 1 Axes>"
      ]
     },
     "metadata": {},
     "output_type": "display_data"
    }
   ],
   "source": [
    "plt.scatter(csdf.colour.value_counts().keys(), csdf.colour.value_counts().values, color='dimgray')\n",
    "plt.title('Scatter Plot colour')\n",
    "plt.show()"
   ]
  },
  {
   "cell_type": "code",
   "execution_count": 522,
   "id": "c8aae8dc",
   "metadata": {},
   "outputs": [
    {
     "data": {
      "text/html": [
       "<div>\n",
       "<style scoped>\n",
       "    .dataframe tbody tr th:only-of-type {\n",
       "        vertical-align: middle;\n",
       "    }\n",
       "\n",
       "    .dataframe tbody tr th {\n",
       "        vertical-align: top;\n",
       "    }\n",
       "\n",
       "    .dataframe thead th {\n",
       "        text-align: right;\n",
       "    }\n",
       "</style>\n",
       "<table border=\"1\" class=\"dataframe\">\n",
       "  <thead>\n",
       "    <tr style=\"text-align: right;\">\n",
       "      <th></th>\n",
       "      <th>year</th>\n",
       "      <th>order</th>\n",
       "      <th>country</th>\n",
       "      <th>session ID</th>\n",
       "      <th>colour</th>\n",
       "      <th>location</th>\n",
       "      <th>model photography</th>\n",
       "      <th>Price</th>\n",
       "      <th>price 2</th>\n",
       "      <th>Page</th>\n",
       "    </tr>\n",
       "  </thead>\n",
       "  <tbody>\n",
       "    <tr>\n",
       "      <th>year</th>\n",
       "      <td>NaN</td>\n",
       "      <td>NaN</td>\n",
       "      <td>NaN</td>\n",
       "      <td>NaN</td>\n",
       "      <td>NaN</td>\n",
       "      <td>NaN</td>\n",
       "      <td>NaN</td>\n",
       "      <td>NaN</td>\n",
       "      <td>NaN</td>\n",
       "      <td>NaN</td>\n",
       "    </tr>\n",
       "    <tr>\n",
       "      <th>order</th>\n",
       "      <td>NaN</td>\n",
       "      <td>1.000000</td>\n",
       "      <td>-0.064709</td>\n",
       "      <td>0.021829</td>\n",
       "      <td>0.046427</td>\n",
       "      <td>0.014854</td>\n",
       "      <td>0.061820</td>\n",
       "      <td>-0.064779</td>\n",
       "      <td>0.000772</td>\n",
       "      <td>0.204106</td>\n",
       "    </tr>\n",
       "    <tr>\n",
       "      <th>country</th>\n",
       "      <td>NaN</td>\n",
       "      <td>-0.064709</td>\n",
       "      <td>1.000000</td>\n",
       "      <td>0.065869</td>\n",
       "      <td>0.009789</td>\n",
       "      <td>-0.009072</td>\n",
       "      <td>0.028725</td>\n",
       "      <td>-0.045345</td>\n",
       "      <td>-0.017536</td>\n",
       "      <td>0.026695</td>\n",
       "    </tr>\n",
       "    <tr>\n",
       "      <th>session ID</th>\n",
       "      <td>NaN</td>\n",
       "      <td>0.021829</td>\n",
       "      <td>0.065869</td>\n",
       "      <td>1.000000</td>\n",
       "      <td>-0.032034</td>\n",
       "      <td>-0.016721</td>\n",
       "      <td>0.010585</td>\n",
       "      <td>0.011669</td>\n",
       "      <td>-0.012742</td>\n",
       "      <td>0.023254</td>\n",
       "    </tr>\n",
       "    <tr>\n",
       "      <th>colour</th>\n",
       "      <td>NaN</td>\n",
       "      <td>0.046427</td>\n",
       "      <td>0.009789</td>\n",
       "      <td>-0.032034</td>\n",
       "      <td>1.000000</td>\n",
       "      <td>0.042062</td>\n",
       "      <td>0.074755</td>\n",
       "      <td>-0.091159</td>\n",
       "      <td>-0.080147</td>\n",
       "      <td>0.249322</td>\n",
       "    </tr>\n",
       "    <tr>\n",
       "      <th>location</th>\n",
       "      <td>NaN</td>\n",
       "      <td>0.014854</td>\n",
       "      <td>-0.009072</td>\n",
       "      <td>-0.016721</td>\n",
       "      <td>0.042062</td>\n",
       "      <td>1.000000</td>\n",
       "      <td>0.067678</td>\n",
       "      <td>-0.084653</td>\n",
       "      <td>0.073187</td>\n",
       "      <td>-0.091865</td>\n",
       "    </tr>\n",
       "    <tr>\n",
       "      <th>model photography</th>\n",
       "      <td>NaN</td>\n",
       "      <td>0.061820</td>\n",
       "      <td>0.028725</td>\n",
       "      <td>0.010585</td>\n",
       "      <td>0.074755</td>\n",
       "      <td>0.067678</td>\n",
       "      <td>1.000000</td>\n",
       "      <td>-0.212395</td>\n",
       "      <td>0.072944</td>\n",
       "      <td>0.258315</td>\n",
       "    </tr>\n",
       "    <tr>\n",
       "      <th>Price</th>\n",
       "      <td>NaN</td>\n",
       "      <td>-0.064779</td>\n",
       "      <td>-0.045345</td>\n",
       "      <td>0.011669</td>\n",
       "      <td>-0.091159</td>\n",
       "      <td>-0.084653</td>\n",
       "      <td>-0.212395</td>\n",
       "      <td>1.000000</td>\n",
       "      <td>-0.743633</td>\n",
       "      <td>-0.150455</td>\n",
       "    </tr>\n",
       "    <tr>\n",
       "      <th>price 2</th>\n",
       "      <td>NaN</td>\n",
       "      <td>0.000772</td>\n",
       "      <td>-0.017536</td>\n",
       "      <td>-0.012742</td>\n",
       "      <td>-0.080147</td>\n",
       "      <td>0.073187</td>\n",
       "      <td>0.072944</td>\n",
       "      <td>-0.743633</td>\n",
       "      <td>1.000000</td>\n",
       "      <td>0.029984</td>\n",
       "    </tr>\n",
       "    <tr>\n",
       "      <th>Page</th>\n",
       "      <td>NaN</td>\n",
       "      <td>0.204106</td>\n",
       "      <td>0.026695</td>\n",
       "      <td>0.023254</td>\n",
       "      <td>0.249322</td>\n",
       "      <td>-0.091865</td>\n",
       "      <td>0.258315</td>\n",
       "      <td>-0.150455</td>\n",
       "      <td>0.029984</td>\n",
       "      <td>1.000000</td>\n",
       "    </tr>\n",
       "  </tbody>\n",
       "</table>\n",
       "</div>"
      ],
      "text/plain": [
       "                   year     order   country  session ID    colour  location  \\\n",
       "year                NaN       NaN       NaN         NaN       NaN       NaN   \n",
       "order               NaN  1.000000 -0.064709    0.021829  0.046427  0.014854   \n",
       "country             NaN -0.064709  1.000000    0.065869  0.009789 -0.009072   \n",
       "session ID          NaN  0.021829  0.065869    1.000000 -0.032034 -0.016721   \n",
       "colour              NaN  0.046427  0.009789   -0.032034  1.000000  0.042062   \n",
       "location            NaN  0.014854 -0.009072   -0.016721  0.042062  1.000000   \n",
       "model photography   NaN  0.061820  0.028725    0.010585  0.074755  0.067678   \n",
       "Price               NaN -0.064779 -0.045345    0.011669 -0.091159 -0.084653   \n",
       "price 2             NaN  0.000772 -0.017536   -0.012742 -0.080147  0.073187   \n",
       "Page                NaN  0.204106  0.026695    0.023254  0.249322 -0.091865   \n",
       "\n",
       "                   model photography     Price   price 2      Page  \n",
       "year                             NaN       NaN       NaN       NaN  \n",
       "order                       0.061820 -0.064779  0.000772  0.204106  \n",
       "country                     0.028725 -0.045345 -0.017536  0.026695  \n",
       "session ID                  0.010585  0.011669 -0.012742  0.023254  \n",
       "colour                      0.074755 -0.091159 -0.080147  0.249322  \n",
       "location                    0.067678 -0.084653  0.073187 -0.091865  \n",
       "model photography           1.000000 -0.212395  0.072944  0.258315  \n",
       "Price                      -0.212395  1.000000 -0.743633 -0.150455  \n",
       "price 2                     0.072944 -0.743633  1.000000  0.029984  \n",
       "Page                        0.258315 -0.150455  0.029984  1.000000  "
      ]
     },
     "execution_count": 522,
     "metadata": {},
     "output_type": "execute_result"
    }
   ],
   "source": [
    "csdf.corr()"
   ]
  },
  {
   "cell_type": "code",
   "execution_count": 523,
   "id": "88ff694a",
   "metadata": {},
   "outputs": [],
   "source": [
    "#Pertama, buat va|riabel x dan y.\n",
    "x = csdf['colour'].values.reshape(-1,1)\n",
    "y = csdf['Price'].values.reshape(-1,1)"
   ]
  },
  {
   "cell_type": "markdown",
   "id": "22ac0f87",
   "metadata": {},
   "source": [
    "tahap Modelling.\n",
    "---"
   ]
  },
  {
   "cell_type": "code",
   "execution_count": 533,
   "id": "a604adfe",
   "metadata": {},
   "outputs": [],
   "source": [
    "x_train, x_test, y_train, y_test = train_test_split(x, y, test_size=0.2)"
   ]
  },
  {
   "cell_type": "markdown",
   "id": "cb7f3d12",
   "metadata": {},
   "source": [
    "Data dibagi menjadi 2 bagian: \n",
    "---\n",
    "○ Data Latih (Training Data): untuk mengembangkan model\n",
    "\n",
    "○ Data Uji (Testing Data): untuk Mengukur performansi model"
   ]
  },
  {
   "cell_type": "code",
   "execution_count": 534,
   "id": "f5fe8082",
   "metadata": {},
   "outputs": [
    {
     "name": "stdout",
     "output_type": "stream",
     "text": [
      "Banyak Data latih setelah dilakukan train-test Split:  132379\n",
      "Banyak Data latih setelah dilakukan train-test Split:  33095\n"
     ]
    }
   ],
   "source": [
    "print('Banyak Data latih setelah dilakukan train-test Split: ', len(x_train))\n",
    "print('Banyak Data latih setelah dilakukan train-test Split: ', len(x_test))"
   ]
  },
  {
   "cell_type": "markdown",
   "id": "b8eba16f",
   "metadata": {},
   "source": [
    "object linear regresi.\n",
    "---"
   ]
  },
  {
   "cell_type": "code",
   "execution_count": 535,
   "id": "52c6bc09",
   "metadata": {},
   "outputs": [],
   "source": [
    "regresilinear = LinearRegression()"
   ]
  },
  {
   "cell_type": "markdown",
   "id": "f12f2130",
   "metadata": {},
   "source": [
    "training the model menggunakan training data yang sudah displit\n",
    "---"
   ]
  },
  {
   "cell_type": "code",
   "execution_count": 536,
   "id": "d55bf353",
   "metadata": {},
   "outputs": [
    {
     "data": {
      "text/plain": [
       "LinearRegression()"
      ]
     },
     "execution_count": 536,
     "metadata": {},
     "output_type": "execute_result"
    }
   ],
   "source": [
    "regresilinear.fit(x_train, y_train)"
   ]
  },
  {
   "cell_type": "code",
   "execution_count": 537,
   "id": "f04a1b28",
   "metadata": {},
   "outputs": [
    {
     "name": "stdout",
     "output_type": "stream",
     "text": [
      "[[-0.26616599]]\n",
      "[45.4527768]\n"
     ]
    }
   ],
   "source": [
    "print(regresilinear.coef_)\n",
    "print(regresilinear.intercept_)"
   ]
  },
  {
   "cell_type": "markdown",
   "id": "2d2285f1",
   "metadata": {},
   "source": [
    "Slope/koefisien (m) dan Intercept (b).\n",
    "\n",
    "Slope = 163.84565026, Intercept = -3908.67363213."
   ]
  },
  {
   "cell_type": "code",
   "execution_count": 538,
   "id": "1c927e26",
   "metadata": {},
   "outputs": [
    {
     "data": {
      "text/plain": [
       "0.009190493216617912"
      ]
     },
     "execution_count": 538,
     "metadata": {},
     "output_type": "execute_result"
    }
   ],
   "source": [
    "regresilinear.score(x_test, y_test)"
   ]
  },
  {
   "cell_type": "markdown",
   "id": "c2756d00",
   "metadata": {},
   "source": [
    "nilai accuracy score sebesar 91%"
   ]
  },
  {
   "cell_type": "code",
   "execution_count": 556,
   "id": "9e8d1cbc",
   "metadata": {},
   "outputs": [
    {
     "data": {
      "text/plain": [
       "Text(0.5, 1.0, 'Plot colour vs Price')"
      ]
     },
     "execution_count": 556,
     "metadata": {},
     "output_type": "execute_result"
    },
    {
     "data": {
      "image/png": "[encoded data removed]",
      "text/plain": [
       "<Figure size 360x360 with 1 Axes>"
      ]
     },
     "metadata": {},
     "output_type": "display_data"
    }
   ],
   "source": [
    "y_prediksi = regresilinear.predict(x_test)\n",
    "plt.scatter(x_test, y_test)\n",
    "plt.plot(x_test, y_prediksi, c='r')\n",
    "plt.xlabel('colour')\n",
    "plt.ylabel('Price')\n",
    "plt.title('Plot colour vs Price')"
   ]
  },
  {
   "cell_type": "markdown",
   "id": "adf7298f",
   "metadata": {},
   "source": [
    "lakukan prediksi harga baju dengan warna 10 dan 6\n",
    "---"
   ]
  },
  {
   "cell_type": "markdown",
   "id": "e39bbe36",
   "metadata": {},
   "source": [
    "Prediksi harga baju dengan warna 10.\n",
    "---"
   ]
  },
  {
   "cell_type": "code",
   "execution_count": 540,
   "id": "7890e5d8",
   "metadata": {},
   "outputs": [
    {
     "data": {
      "text/plain": [
       "array([[42.79111694]])"
      ]
     },
     "execution_count": 540,
     "metadata": {},
     "output_type": "execute_result"
    }
   ],
   "source": [
    "regresilinear.predict([[10]])"
   ]
  },
  {
   "cell_type": "markdown",
   "id": "503d8360",
   "metadata": {},
   "source": [
    "Prediksi harga baju dengan warna 6.\n",
    "---"
   ]
  },
  {
   "cell_type": "code",
   "execution_count": 541,
   "id": "3bcc1267",
   "metadata": {},
   "outputs": [
    {
     "data": {
      "text/plain": [
       "array([[43.85578088]])"
      ]
     },
     "execution_count": 541,
     "metadata": {},
     "output_type": "execute_result"
    }
   ],
   "source": [
    "regresilinear.predict([[6]])"
   ]
  },
  {
   "cell_type": "markdown",
   "id": "66a46849",
   "metadata": {},
   "source": [
    "Bisa Kita Lihat Bahwa Harga Baju Warna 10 seharga 42 Ribu dan Untuk Warna 6 Harga Baju 43 Ribu"
   ]
  }
 ],
 "metadata": {
  "kernelspec": {
   "display_name": "Python 3",
   "language": "python",
   "name": "python3"
  },
  "language_info": {
   "codemirror_mode": {
    "name": "ipython",
    "version": 3
   },
   "file_extension": ".py",
   "mimetype": "text/x-python",
   "name": "python",
   "nbconvert_exporter": "python",
   "pygments_lexer": "ipython3",
   "version": "3.8.8"
  }
 },
 "nbformat": 4,
 "nbformat_minor": 5
}
