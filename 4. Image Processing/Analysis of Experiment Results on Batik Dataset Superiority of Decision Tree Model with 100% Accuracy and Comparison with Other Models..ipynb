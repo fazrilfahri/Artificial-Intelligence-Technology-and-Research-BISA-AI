{
 "cells": [
  {
   "cell_type": "code",
   "execution_count": 54,
   "metadata": {},
   "outputs": [],
   "source": [
    "import numpy as np\n",
    "import cv2 as cv\n",
    "from skimage.feature import local_binary_pattern\n",
    "import matplotlib.pyplot as plt\n",
    "from sklearn.model_selection import cross_val_score\n",
    "from sklearn.neighbors import KNeighborsClassifier\n",
    "from sklearn.tree import DecisionTreeClassifier #Decision Tree\n",
    "from sklearn.ensemble import RandomForestClassifier #Random Forest\n",
    "from sklearn.naive_bayes import GaussianNB #Naive bayes\n",
    "from sklearn import metrics #accuracy measure\n",
    "from sklearn.metrics import confusion_matrix #for confusion matrix\n",
    "from sklearn import tree #for decision tree\n",
    "\n",
    "# settings for LBP\n",
    "radius = 2\n",
    "n_points = 8 * radius\n",
    "METHOD = 'uniform'\n",
    "plt.rcParams['font.size'] = 9\n",
    "#membaca gambar kelas 1 dan lakukan konversi ke grayscale, laku lakukan feature extraction dengan LBP\n",
    "data1_kelas1_lbp = local_binary_pattern(cv.imread('DATASET/KELAS1/1.jpg', cv.IMREAD_GRAYSCALE), n_points, radius, METHOD)\n",
    "data2_kelas1_lbp = local_binary_pattern(cv.imread('DATASET/KELAS1/2.jpg', cv.IMREAD_GRAYSCALE), n_points, radius, METHOD)\n",
    "data3_kelas1_lbp = local_binary_pattern(cv.imread('DATASET/KELAS1/3.jpg', cv.IMREAD_GRAYSCALE), n_points, radius, METHOD)\n",
    "data4_kelas1_lbp = local_binary_pattern(cv.imread('DATASET/KELAS1/4.jpg', cv.IMREAD_GRAYSCALE), n_points, radius, METHOD)\n",
    "data5_kelas1_lbp = local_binary_pattern(cv.imread('DATASET/KELAS1/5.jpg', cv.IMREAD_GRAYSCALE), n_points, radius, METHOD)\n",
    "data6_kelas1_lbp = local_binary_pattern(cv.imread('DATASET/KELAS1/6.jpg', cv.IMREAD_GRAYSCALE), n_points, radius, METHOD)\n",
    "data7_kelas1_lbp = local_binary_pattern(cv.imread('DATASET/KELAS1/7.jpg', cv.IMREAD_GRAYSCALE), n_points, radius, METHOD)\n",
    "data8_kelas1_lbp = local_binary_pattern(cv.imread('DATASET/KELAS1/8.jpg', cv.IMREAD_GRAYSCALE), n_points, radius, METHOD)\n",
    "data9_kelas1_lbp = local_binary_pattern(cv.imread('DATASET/KELAS1/9.jpg', cv.IMREAD_GRAYSCALE), n_points, radius, METHOD)\n",
    "data10_kelas1_lbp = local_binary_pattern(cv.imread('DATASET/KELAS1/10.jpg', cv.IMREAD_GRAYSCALE), n_points, radius, METHOD)\n"
   ]
  },
  {
   "cell_type": "code",
   "execution_count": 55,
   "metadata": {},
   "outputs": [],
   "source": [
    "#membaca gambar kelas 2 dan lakukan konversi ke grayscale, laku lakukan feature extraction dengan LBP\n",
    "data1_kelas2_lbp = local_binary_pattern(cv.imread('DATASET/KELAS2/1.jpg', cv.IMREAD_GRAYSCALE), n_points, radius, METHOD)\n",
    "data2_kelas2_lbp = local_binary_pattern(cv.imread('DATASET/KELAS2/2.jpg', cv.IMREAD_GRAYSCALE), n_points, radius, METHOD)\n",
    "data3_kelas2_lbp = local_binary_pattern(cv.imread('DATASET/KELAS2/3.jpg', cv.IMREAD_GRAYSCALE), n_points, radius, METHOD)\n",
    "data4_kelas2_lbp = local_binary_pattern(cv.imread('DATASET/KELAS2/4.jpg', cv.IMREAD_GRAYSCALE), n_points, radius, METHOD)\n",
    "data5_kelas2_lbp = local_binary_pattern(cv.imread('DATASET/KELAS2/5.jpg', cv.IMREAD_GRAYSCALE), n_points, radius, METHOD)\n",
    "data6_kelas2_lbp = local_binary_pattern(cv.imread('DATASET/KELAS2/6.jpg', cv.IMREAD_GRAYSCALE), n_points, radius, METHOD)\n",
    "data7_kelas2_lbp = local_binary_pattern(cv.imread('DATASET/KELAS2/7.jpg', cv.IMREAD_GRAYSCALE), n_points, radius, METHOD)\n",
    "data8_kelas2_lbp = local_binary_pattern(cv.imread('DATASET/KELAS2/8.jpg', cv.IMREAD_GRAYSCALE), n_points, radius, METHOD)\n",
    "data9_kelas2_lbp = local_binary_pattern(cv.imread('DATASET/KELAS2/9.jpg', cv.IMREAD_GRAYSCALE), n_points, radius, METHOD)\n",
    "data10_kelas2_lbp = local_binary_pattern(cv.imread('DATASET/KELAS2/10.jpg', cv.IMREAD_GRAYSCALE), n_points, radius, METHOD)\n",
    "#dapatkan histogram dari LBP untuk data kelas 1\n",
    "data1_kelas1_lbp_hist,bins = np.histogram(data1_kelas1_lbp.ravel(),256,[0,256])\n",
    "data2_kelas1_lbp_hist,bins = np.histogram(data2_kelas1_lbp.ravel(),256,[0,256])\n",
    "data3_kelas1_lbp_hist,bins = np.histogram(data3_kelas1_lbp.ravel(),256,[0,256])\n",
    "data4_kelas1_lbp_hist,bins = np.histogram(data4_kelas1_lbp.ravel(),256,[0,256])\n",
    "data5_kelas1_lbp_hist,bins = np.histogram(data5_kelas1_lbp.ravel(),256,[0,256])\n",
    "data6_kelas1_lbp_hist,bins = np.histogram(data6_kelas1_lbp.ravel(),256,[0,256])\n",
    "data7_kelas1_lbp_hist,bins = np.histogram(data7_kelas1_lbp.ravel(),256,[0,256])\n",
    "data8_kelas1_lbp_hist,bins = np.histogram(data8_kelas1_lbp.ravel(),256,[0,256])\n",
    "data9_kelas1_lbp_hist,bins = np.histogram(data9_kelas1_lbp.ravel(),256,[0,256])\n",
    "data10_kelas1_lbp_hist,bins = np.histogram(data10_kelas1_lbp.ravel(),256,[0,256])\n",
    "#dapatkan histogram dari LBP untuk data kelas 2\n",
    "data1_kelas2_lbp_hist,bins = np.histogram(data1_kelas2_lbp.ravel(),256,[0,256])\n",
    "data2_kelas2_lbp_hist,bins = np.histogram(data2_kelas2_lbp.ravel(),256,[0,256])\n",
    "data3_kelas2_lbp_hist,bins = np.histogram(data3_kelas2_lbp.ravel(),256,[0,256])\n",
    "data4_kelas2_lbp_hist,bins = np.histogram(data4_kelas2_lbp.ravel(),256,[0,256])\n",
    "data5_kelas2_lbp_hist,bins = np.histogram(data5_kelas2_lbp.ravel(),256,[0,256])\n",
    "data6_kelas2_lbp_hist,bins = np.histogram(data6_kelas2_lbp.ravel(),256,[0,256])\n",
    "data7_kelas2_lbp_hist,bins = np.histogram(data7_kelas2_lbp.ravel(),256,[0,256])\n",
    "data8_kelas2_lbp_hist,bins = np.histogram(data8_kelas2_lbp.ravel(),256,[0,256])\n",
    "data9_kelas2_lbp_hist,bins = np.histogram(data9_kelas2_lbp.ravel(),256,[0,256])\n",
    "data10_kelas2_lbp_hist,bins = np.histogram(data10_kelas2_lbp.ravel(),256,[0,256])\n",
    "#ubah vektor ke matriks dan lakukan transpose matriks untuk data kelas 1\n",
    "data1_kelas1_lbp_hist=np.transpose(data1_kelas1_lbp_hist[0:18,np.newaxis])\n",
    "data2_kelas1_lbp_hist=np.transpose(data2_kelas1_lbp_hist[0:18,np.newaxis])\n",
    "data3_kelas1_lbp_hist=np.transpose(data3_kelas1_lbp_hist[0:18,np.newaxis])\n",
    "data4_kelas1_lbp_hist=np.transpose(data4_kelas1_lbp_hist[0:18,np.newaxis])\n",
    "data5_kelas1_lbp_hist=np.transpose(data5_kelas1_lbp_hist[0:18,np.newaxis])\n",
    "data6_kelas1_lbp_hist=np.transpose(data6_kelas1_lbp_hist[0:18,np.newaxis])\n",
    "data7_kelas1_lbp_hist=np.transpose(data7_kelas1_lbp_hist[0:18,np.newaxis])\n",
    "data8_kelas1_lbp_hist=np.transpose(data8_kelas1_lbp_hist[0:18,np.newaxis])\n",
    "data9_kelas1_lbp_hist=np.transpose(data9_kelas1_lbp_hist[0:18,np.newaxis])\n",
    "data10_kelas1_lbp_hist=np.transpose(data10_kelas1_lbp_hist[0:18,np.newaxis])"
   ]
  },
  {
   "cell_type": "code",
   "execution_count": 56,
   "metadata": {},
   "outputs": [
    {
     "name": "stdout",
     "output_type": "stream",
     "text": [
      "[1. 1. 2. 2.]\n",
      "Accuracy  : 0.9333333333333332\n"
     ]
    }
   ],
   "source": [
    "#ubah vektor ke matriks dan lakukan transpose matriks untuk data kelas 2\n",
    "data1_kelas2_lbp_hist=np.transpose(data1_kelas2_lbp_hist[0:18,np.newaxis])\n",
    "data2_kelas2_lbp_hist=np.transpose(data2_kelas2_lbp_hist[0:18,np.newaxis])\n",
    "data3_kelas2_lbp_hist=np.transpose(data3_kelas2_lbp_hist[0:18,np.newaxis])\n",
    "data4_kelas2_lbp_hist=np.transpose(data4_kelas2_lbp_hist[0:18,np.newaxis])\n",
    "data5_kelas2_lbp_hist=np.transpose(data5_kelas2_lbp_hist[0:18,np.newaxis])\n",
    "data6_kelas2_lbp_hist=np.transpose(data6_kelas2_lbp_hist[0:18,np.newaxis])\n",
    "data7_kelas2_lbp_hist=np.transpose(data7_kelas2_lbp_hist[0:18,np.newaxis])\n",
    "data8_kelas2_lbp_hist=np.transpose(data8_kelas2_lbp_hist[0:18,np.newaxis])\n",
    "data9_kelas2_lbp_hist=np.transpose(data9_kelas2_lbp_hist[0:18,np.newaxis])\n",
    "data10_kelas2_lbp_hist=np.transpose(data10_kelas2_lbp_hist[0:18,np.newaxis])\n",
    "#gabungkan data citra menjadi satu matriks data training\n",
    "trainData = np.concatenate((data1_kelas1_lbp_hist, data2_kelas1_lbp_hist, \n",
    " data3_kelas1_lbp_hist, data4_kelas1_lbp_hist,\n",
    " data5_kelas1_lbp_hist, data6_kelas1_lbp_hist,\n",
    " data7_kelas1_lbp_hist, data8_kelas1_lbp_hist,\n",
    " data1_kelas2_lbp_hist, data2_kelas2_lbp_hist, \n",
    " data3_kelas2_lbp_hist, data4_kelas2_lbp_hist,\n",
    " data5_kelas2_lbp_hist, data6_kelas2_lbp_hist,\n",
    " data7_kelas2_lbp_hist, data8_kelas2_lbp_hist), axis=0).astype(np.float32)\n",
    "#gabungkan data citra menjadi satu matriks data testing\n",
    "testData = np.concatenate((data9_kelas1_lbp_hist, data10_kelas1_lbp_hist, \n",
    " data9_kelas2_lbp_hist, data10_kelas2_lbp_hist), axis=0).astype(np.float32)\n",
    "#target\n",
    "responses = np.array([1, 1, 1, 1, 1, 1, 1, 1, 2, 2, 2, 2, 2, 2, 2, 2]).astype(np.float32)\n",
    "\n",
    "#kNN\n",
    "knn=KNeighborsClassifier(n_neighbors=3) #define K=3\n",
    "knn.fit(trainData,responses)\n",
    "res = knn.predict(testData)\n",
    "print(res)\n",
    "\n",
    "score= cross_val_score(knn, trainData, responses, cv=5, scoring='accuracy')\n",
    "print('Accuracy  :',score.mean())"
   ]
  },
  {
   "cell_type": "code",
   "execution_count": 45,
   "metadata": {},
   "outputs": [
    {
     "name": "stdout",
     "output_type": "stream",
     "text": [
      "Accuracy  : 1.0\n"
     ]
    },
    {
     "data": {
      "text/plain": [
       "[Text(167.4, 163.07999999999998, 'X[1] <= 4883.0\\ngini = 0.5\\nsamples = 16\\nvalue = [8, 8]'),\n",
       " Text(83.7, 54.360000000000014, 'gini = 0.0\\nsamples = 8\\nvalue = [8, 0]'),\n",
       " Text(251.10000000000002, 54.360000000000014, 'gini = 0.0\\nsamples = 8\\nvalue = [0, 8]')]"
      ]
     },
     "execution_count": 45,
     "metadata": {},
     "output_type": "execute_result"
    },
    {
     "data": {
      "image/png": "[encoded data removed]",
      "text/plain": [
       "<Figure size 432x288 with 1 Axes>"
      ]
     },
     "metadata": {
      "needs_background": "light"
     },
     "output_type": "display_data"
    }
   ],
   "source": [
    "#Decision Tree\n",
    "decisiontree=DecisionTreeClassifier()\n",
    "decisiontree.fit(trainData,responses)\n",
    "res1=decisiontree.predict(testData)\n",
    "\n",
    "score= cross_val_score(decisiontree, trainData, responses, cv=5, scoring='accuracy')\n",
    "print('Accuracy  :',score.mean())\n",
    "tree.plot_tree(decisiontree.fit(trainData, responses))"
   ]
  },
  {
   "cell_type": "code",
   "execution_count": 47,
   "metadata": {},
   "outputs": [
    {
     "name": "stdout",
     "output_type": "stream",
     "text": [
      "[1. 1. 2. 2.]\n",
      "Accuracy  : 0.9333333333333332\n"
     ]
    }
   ],
   "source": [
    "# Random Forest\n",
    "randomforest=RandomForestClassifier(n_estimators=100)\n",
    "randomforest.fit(trainData,responses)                       \n",
    "res2=randomforest.predict(testData)\n",
    "print(res2)\n",
    "\n",
    "score= cross_val_score(randomforest, trainData, responses, cv=5, scoring='accuracy')\n",
    "print('Accuracy  :',score.mean())\n"
   ]
  },
  {
   "cell_type": "code",
   "execution_count": 48,
   "metadata": {},
   "outputs": [
    {
     "name": "stdout",
     "output_type": "stream",
     "text": [
      "[1. 1. 2. 2.]\n",
      "Accuracy  : 0.8833333333333332\n"
     ]
    }
   ],
   "source": [
    "# Naive Bayes\n",
    "Naivebayes=GaussianNB()\n",
    "Naivebayes.fit(trainData,responses)                       \n",
    "res3=Naivebayes.predict(testData)\n",
    "print(res3)\n",
    "score= cross_val_score(Naivebayes, trainData, responses, cv=5, scoring='accuracy')\n",
    "print('Accuracy  :',score.mean())"
   ]
  },
  {
   "cell_type": "markdown",
   "metadata": {},
   "source": [
    "Pada Hasil Perobaan Diatas Dengan Dataset Batik https://www.kaggle.com/datasets/dionisiusdh/ Adapun Beberapa Model Terbaik dengan Akurasi Sebagai Berikut :\n",
    "\n",
    "1. Desicion Tree dengan akurasi : 100%\n",
    "2. Random Forest Dengan Akurasi : 93%\n",
    "3. KNN Dengan Akurasi : 93%\n",
    "4. Naive Bayes Dengan AkurasI : 88%\n",
    "\n",
    "Berdasarkan hasil percobaan di atas, dapat disimpulkan bahwa model Decision Tree merupakan model klasifikasi yang paling baik untuk dataset batik. Model ini memiliki akurasi yang tinggi, mudah dipahami dan diinterpretasikan, serta tidak memerlukan banyak data untuk training. Decision Tree mencapai akurasi 100%, menjadikannya pilihan utama dalam konteks ini. Selain itu, model Random Forest dan KNN juga menunjukkan hasil yang sangat baik dengan akurasi 93%, yang juga patut dipertimbangkan. "
   ]
  },
  {
   "cell_type": "markdown",
   "metadata": {},
   "source": []
  }
 ],
 "metadata": {
  "interpreter": {
   "hash": "4e49481f2d003b9b048ab3ba82f7a1b4e1e6f740d276aa35842e615a75c9551e"
  },
  "kernelspec": {
   "display_name": "Python 3",
   "language": "python",
   "name": "python3"
  },
  "language_info": {
   "codemirror_mode": {
    "name": "ipython",
    "version": 3
   },
   "file_extension": ".py",
   "mimetype": "text/x-python",
   "name": "python",
   "nbconvert_exporter": "python",
   "pygments_lexer": "ipython3",
   "version": "3.8.8"
  }
 },
 "nbformat": 4,
 "nbformat_minor": 2
}
